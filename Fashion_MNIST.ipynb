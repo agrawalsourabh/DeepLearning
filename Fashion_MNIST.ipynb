{
  "nbformat": 4,
  "nbformat_minor": 0,
  "metadata": {
    "colab": {
      "name": "Fashion MNIST",
      "provenance": [],
      "collapsed_sections": [],
      "include_colab_link": true
    },
    "kernelspec": {
      "name": "python3",
      "display_name": "Python 3"
    },
    "accelerator": "GPU"
  },
  "cells": [
    {
      "cell_type": "markdown",
      "metadata": {
        "id": "view-in-github",
        "colab_type": "text"
      },
      "source": [
        "<a href=\"https://colab.research.google.com/github/agrawalsourabh/DeepLearning/blob/master/Fashion_MNIST.ipynb\" target=\"_parent\"><img src=\"https://colab.research.google.com/assets/colab-badge.svg\" alt=\"Open In Colab\"/></a>"
      ]
    },
    {
      "cell_type": "markdown",
      "metadata": {
        "id": "eW4EQtHCueEO",
        "colab_type": "text"
      },
      "source": [
        "# Fashion MNIST Data\n",
        "\n",
        "**Learning Objective:**\n",
        "\n",
        "* Learn how to load data from web.\n",
        "* Built a neural network using keras\n",
        "* Train a neural network using keras"
      ]
    },
    {
      "cell_type": "code",
      "metadata": {
        "id": "ovrZqIedu181",
        "colab_type": "code",
        "colab": {
          "base_uri": "https://localhost:8080/",
          "height": 34
        },
        "outputId": "ec3ba4c0-fab1-4eeb-cd40-6bb7c938065f"
      },
      "source": [
        "# Import libraries\n",
        "import numpy as np\n",
        "import pandas as pd\n",
        "import matplotlib.pyplot as plt\n",
        "import tensorflow as tf\n",
        "import keras as keras\n",
        "\n",
        "from keras.datasets import fashion_mnist"
      ],
      "execution_count": 2,
      "outputs": [
        {
          "output_type": "stream",
          "text": [
            "Using TensorFlow backend.\n"
          ],
          "name": "stderr"
        }
      ]
    },
    {
      "cell_type": "markdown",
      "metadata": {
        "id": "h7rZQavOvZjT",
        "colab_type": "text"
      },
      "source": [
        "**Load the data**"
      ]
    },
    {
      "cell_type": "code",
      "metadata": {
        "id": "O45cGYpRvdQ6",
        "colab_type": "code",
        "colab": {
          "base_uri": "https://localhost:8080/",
          "height": 221
        },
        "outputId": "b08b1314-650e-4301-d2ea-70d920c914f2"
      },
      "source": [
        "mnist = tf.keras.datasets.fashion_mnist\n",
        "\n",
        "(x_train, y_train), (x_test, y_test) = mnist.load_data()\n",
        "\n",
        "print(\"Training Data - features \", x_train.shape)\n",
        "print(\"Training Data - target \", y_train.shape)\n",
        "\n",
        "print(\"Testing Data - features \", x_test.shape)\n",
        "print(\"Testing Data - target \", y_test.shape)\n"
      ],
      "execution_count": 8,
      "outputs": [
        {
          "output_type": "stream",
          "text": [
            "Downloading data from https://storage.googleapis.com/tensorflow/tf-keras-datasets/train-labels-idx1-ubyte.gz\n",
            "32768/29515 [=================================] - 0s 0us/step\n",
            "Downloading data from https://storage.googleapis.com/tensorflow/tf-keras-datasets/train-images-idx3-ubyte.gz\n",
            "26427392/26421880 [==============================] - 0s 0us/step\n",
            "Downloading data from https://storage.googleapis.com/tensorflow/tf-keras-datasets/t10k-labels-idx1-ubyte.gz\n",
            "8192/5148 [===============================================] - 0s 0us/step\n",
            "Downloading data from https://storage.googleapis.com/tensorflow/tf-keras-datasets/t10k-images-idx3-ubyte.gz\n",
            "4423680/4422102 [==============================] - 0s 0us/step\n",
            "Training Data - features  (60000, 28, 28)\n",
            "Training Data - target  (60000,)\n",
            "Testing Data - features  (10000, 28, 28)\n",
            "Testing Data - target  (10000,)\n"
          ],
          "name": "stdout"
        }
      ]
    },
    {
      "cell_type": "markdown",
      "metadata": {
        "id": "mVuMN1ME-DHN",
        "colab_type": "text"
      },
      "source": [
        "**Normalising the data**"
      ]
    },
    {
      "cell_type": "code",
      "metadata": {
        "id": "Nw4wU0NC93S9",
        "colab_type": "code",
        "colab": {}
      },
      "source": [
        "x_train = x_train/255\n",
        "x_test = x_test/255"
      ],
      "execution_count": 0,
      "outputs": []
    },
    {
      "cell_type": "markdown",
      "metadata": {
        "id": "XlgydovI0-oX",
        "colab_type": "text"
      },
      "source": [
        "**Visualise our data**"
      ]
    },
    {
      "cell_type": "code",
      "metadata": {
        "id": "sErUAlCm1CKD",
        "colab_type": "code",
        "colab": {
          "base_uri": "https://localhost:8080/",
          "height": 286
        },
        "outputId": "b6b0cde7-2925-4965-d284-3d2a454c21c3"
      },
      "source": [
        "plt.imshow(x_train[10])"
      ],
      "execution_count": 18,
      "outputs": [
        {
          "output_type": "execute_result",
          "data": {
            "text/plain": [
              "<matplotlib.image.AxesImage at 0x7fcdb69873c8>"
            ]
          },
          "metadata": {
            "tags": []
          },
          "execution_count": 18
        },
        {
          "output_type": "display_data",
          "data": {
            "image/png": "[encoded data removed]",
            "text/plain": [
              "<Figure size 432x288 with 1 Axes>"
            ]
          },
          "metadata": {
            "tags": []
          }
        }
      ]
    },
    {
      "cell_type": "code",
      "metadata": {
        "id": "-K_OU01g1ZOf",
        "colab_type": "code",
        "colab": {
          "base_uri": "https://localhost:8080/",
          "height": 34
        },
        "outputId": "b11d7a4c-9196-42b4-d887-df2166a755cc"
      },
      "source": [
        "print(y_train[10])"
      ],
      "execution_count": 19,
      "outputs": [
        {
          "output_type": "stream",
          "text": [
            "0\n"
          ],
          "name": "stdout"
        }
      ]
    },
    {
      "cell_type": "markdown",
      "metadata": {
        "id": "j7SRxrPax3f3",
        "colab_type": "text"
      },
      "source": [
        "**Define a neural network** </br>\n",
        "With three layers\n",
        "\n",
        "* Flatten (Input layer)\n",
        "* Hidden layer\n",
        "* Output layer "
      ]
    },
    {
      "cell_type": "code",
      "metadata": {
        "id": "67PgAQ8fyIt_",
        "colab_type": "code",
        "colab": {}
      },
      "source": [
        "model = keras.Sequential()\n",
        "\n",
        "# Input Layer\n",
        "model.add(keras.layers.Flatten())\n",
        "\n",
        "# Hidden Layer\n",
        "model.add(keras.layers.Dense(1024, activation=tf.nn.relu)) # units = 128 -> 128 neurons \n",
        "\n",
        "# Output layer\n",
        "model.add(keras.layers.Dense(10, activation=tf.nn.softmax)) "
      ],
      "execution_count": 0,
      "outputs": []
    },
    {
      "cell_type": "markdown",
      "metadata": {
        "id": "K7cIPtA-3h-j",
        "colab_type": "text"
      },
      "source": [
        "**Sequence:** Add Sequence of layers. </br>\n",
        "**Flatten:** Flatten turns the input to 1D array. </br>\n",
        "**Dense:** Add a layer of neurons.</br> </br>\n",
        "Each layer of neurons needs an **activation function**, to tell them what to do.</br>\n",
        "\n",
        "* **Relu:** It only passes value 0 or greater to the next layer. </br>\n",
        "* **Softmax** Takes the set of values and effectively picks the biggest one.</br> </br>\n",
        "\n",
        "**Built the model**</br>\n",
        "Now the model is defined, actually to build it. We built it by compiling with the optimiser and a loss function.\n",
        "\n"
      ]
    },
    {
      "cell_type": "code",
      "metadata": {
        "id": "sVXSQW-a61nb",
        "colab_type": "code",
        "colab": {
          "base_uri": "https://localhost:8080/",
          "height": 34
        },
        "outputId": "32d68de6-1e7a-4dc6-fa52-87c9b7149d64"
      },
      "source": [
        "print(tf.test.gpu_device_name())"
      ],
      "execution_count": 20,
      "outputs": [
        {
          "output_type": "stream",
          "text": [
            "/device:GPU:0\n"
          ],
          "name": "stdout"
        }
      ]
    },
    {
      "cell_type": "markdown",
      "metadata": {
        "id": "jQGqwCI5FLoT",
        "colab_type": "text"
      },
      "source": [
        "**Callback method**"
      ]
    },
    {
      "cell_type": "code",
      "metadata": {
        "id": "4pW7tKC5FRHn",
        "colab_type": "code",
        "colab": {}
      },
      "source": [
        "class myCallback(tf.keras.callbacks.Callback):\n",
        "  def on_epoch_end(self, epoch, logs={}):\n",
        "    if(logs.get('loss')<0.4):\n",
        "      print(\"\\nReached 60% accuracy so cancelling training!\")\n",
        "      self.model.stop_training = True\n",
        "\n",
        "callbacks = myCallback()"
      ],
      "execution_count": 0,
      "outputs": []
    },
    {
      "cell_type": "code",
      "metadata": {
        "id": "irwYlI6-5qwW",
        "colab_type": "code",
        "colab": {
          "base_uri": "https://localhost:8080/",
          "height": 102
        },
        "outputId": "e787701f-a351-4da6-9bdb-24b466a5d76d"
      },
      "source": [
        "model.compile(optimizer=tf.train.AdamOptimizer(), \n",
        "             loss='sparse_categorical_crossentropy')\n",
        "\n",
        "model.fit(x_train, y_train, epochs=5, callbacks=[callbacks])"
      ],
      "execution_count": 36,
      "outputs": [
        {
          "output_type": "stream",
          "text": [
            "Epoch 1/5\n",
            "60000/60000 [==============================] - 7s 123us/step - loss: 0.2667\n",
            "\n",
            "Reached 60% accuracy so cancelling training!\n"
          ],
          "name": "stdout"
        },
        {
          "output_type": "execute_result",
          "data": {
            "text/plain": [
              "<keras.callbacks.History at 0x7fcdb57712e8>"
            ]
          },
          "metadata": {
            "tags": []
          },
          "execution_count": 36
        }
      ]
    },
    {
      "cell_type": "markdown",
      "metadata": {
        "id": "R7USDXE69Mro",
        "colab_type": "text"
      },
      "source": [
        "**Evaluate our model**"
      ]
    },
    {
      "cell_type": "code",
      "metadata": {
        "id": "GP2aOYYq9Pxn",
        "colab_type": "code",
        "colab": {
          "base_uri": "https://localhost:8080/",
          "height": 51
        },
        "outputId": "dee8fc08-d050-413c-c1c1-fea1a6df43bf"
      },
      "source": [
        "model.evaluate(x_test, y_test)"
      ],
      "execution_count": 37,
      "outputs": [
        {
          "output_type": "stream",
          "text": [
            "10000/10000 [==============================] - 1s 75us/step\n"
          ],
          "name": "stdout"
        },
        {
          "output_type": "execute_result",
          "data": {
            "text/plain": [
              "0.32459772090911865"
            ]
          },
          "metadata": {
            "tags": []
          },
          "execution_count": 37
        }
      ]
    },
    {
      "cell_type": "markdown",
      "metadata": {
        "id": "Vr7v-xuUAERS",
        "colab_type": "text"
      },
      "source": [
        "**Predictions**"
      ]
    },
    {
      "cell_type": "code",
      "metadata": {
        "id": "AloryVhW35ee",
        "colab_type": "code",
        "colab": {
          "base_uri": "https://localhost:8080/",
          "height": 68
        },
        "outputId": "8f937996-5209-45ae-d6c1-c71a94bb6cc4"
      },
      "source": [
        "y_pred = model.predict(x_test)\n",
        "\n",
        "print(y_pred[1])"
      ],
      "execution_count": 31,
      "outputs": [
        {
          "output_type": "stream",
          "text": [
            "[7.05178027e-05 4.81786035e-11 9.96786714e-01 6.10330915e-08\n",
            " 8.47396208e-04 1.08840285e-13 2.29533715e-03 6.83221993e-14\n",
            " 1.46221690e-09 1.12093288e-12]\n"
          ],
          "name": "stdout"
        }
      ]
    },
    {
      "cell_type": "code",
      "metadata": {
        "id": "p2zQy5p0BPie",
        "colab_type": "code",
        "colab": {
          "base_uri": "https://localhost:8080/",
          "height": 34
        },
        "outputId": "dea4ffc5-d04a-40e1-926b-7ee173db3bdb"
      },
      "source": [
        "print(y_test[1])"
      ],
      "execution_count": 26,
      "outputs": [
        {
          "output_type": "stream",
          "text": [
            "2\n"
          ],
          "name": "stdout"
        }
      ]
    },
    {
      "cell_type": "code",
      "metadata": {
        "id": "uypmydu6BX_A",
        "colab_type": "code",
        "colab": {
          "base_uri": "https://localhost:8080/",
          "height": 286
        },
        "outputId": "b8eade3d-1701-4182-b436-f956542fece1"
      },
      "source": [
        "plt.imshow(x_test[1])"
      ],
      "execution_count": 27,
      "outputs": [
        {
          "output_type": "execute_result",
          "data": {
            "text/plain": [
              "<matplotlib.image.AxesImage at 0x7fcdb587f2b0>"
            ]
          },
          "metadata": {
            "tags": []
          },
          "execution_count": 27
        },
        {
          "output_type": "display_data",
          "data": {
            "image/png": "[encoded data removed]",
            "text/plain": [
              "<Figure size 432x288 with 1 Axes>"
            ]
          },
          "metadata": {
            "tags": []
          }
        }
      ]
    }
  ]
}