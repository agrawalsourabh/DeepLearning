{
  "nbformat": 4,
  "nbformat_minor": 0,
  "metadata": {
    "colab": {
      "name": "Handwritten MNIST",
      "provenance": [],
      "collapsed_sections": [],
      "include_colab_link": true
    },
    "kernelspec": {
      "name": "python3",
      "display_name": "Python 3"
    },
    "accelerator": "GPU"
  },
  "cells": [
    {
      "cell_type": "markdown",
      "metadata": {
        "id": "view-in-github",
        "colab_type": "text"
      },
      "source": [
        "<a href=\"https://colab.research.google.com/github/agrawalsourabh/DeepLearning/blob/master/Handwritten_MNIST.ipynb\" target=\"_parent\"><img src=\"https://colab.research.google.com/assets/colab-badge.svg\" alt=\"Open In Colab\"/></a>"
      ]
    },
    {
      "cell_type": "markdown",
      "metadata": {
        "id": "P7XdTdthL971",
        "colab_type": "text"
      },
      "source": [
        "\n",
        "\n",
        "---\n",
        "\n",
        "# MNIST Database of Handwritten Digits\n",
        "\n",
        "**Learning Objective:** </br>\n",
        "* Load data form keras\n",
        "* Configure model\n",
        "* Built a model\n",
        "* Use Callbacks\n",
        "* Evaluate the model"
      ]
    },
    {
      "cell_type": "code",
      "metadata": {
        "id": "IKiuhgAYMwIh",
        "colab_type": "code",
        "colab": {}
      },
      "source": [
        "# Importing packages\n",
        "import numpy as np\n",
        "import pandas as pd\n",
        "import tensorflow as tf\n",
        "import keras as keras\n",
        "import matplotlib.pyplot as plt\n",
        "from keras.utils import to_categorical\n",
        "\n",
        "from keras.datasets import mnist"
      ],
      "execution_count": 0,
      "outputs": []
    },
    {
      "cell_type": "markdown",
      "metadata": {
        "id": "yeMx5x0eNNvG",
        "colab_type": "text"
      },
      "source": [
        "**Load the data**"
      ]
    },
    {
      "cell_type": "code",
      "metadata": {
        "id": "sRJ13RvrNQfV",
        "colab_type": "code",
        "colab": {}
      },
      "source": [
        "(x_train, y_train), (x_test, y_test) = tf.keras.datasets.mnist.load_data()\n",
        "\n"
      ],
      "execution_count": 0,
      "outputs": []
    },
    {
      "cell_type": "markdown",
      "metadata": {
        "id": "0JGs8Ax9OCv9",
        "colab_type": "text"
      },
      "source": [
        "**Examine the data**"
      ]
    },
    {
      "cell_type": "code",
      "metadata": {
        "id": "2bySeYclOG7O",
        "colab_type": "code",
        "colab": {
          "base_uri": "https://localhost:8080/",
          "height": 85
        },
        "outputId": "be5a759a-26ba-4d8e-9bf0-35a2697a8815"
      },
      "source": [
        "# print shape of the data\n",
        "\n",
        "print(\"Train data - Features: \", x_train.shape)\n",
        "print(\"Train data - Target: \", y_train.shape)\n",
        "\n",
        "print(\"Test data - Features: \", x_test.shape)\n",
        "print(\"Test data - Features: \", y_test.shape)"
      ],
      "execution_count": 62,
      "outputs": [
        {
          "output_type": "stream",
          "text": [
            "Train data - Features:  (60000, 28, 28)\n",
            "Train data - Target:  (60000,)\n",
            "Test data - Features:  (10000, 28, 28)\n",
            "Test data - Features:  (10000,)\n"
          ],
          "name": "stdout"
        }
      ]
    },
    {
      "cell_type": "code",
      "metadata": {
        "id": "7qGkUaaDOgwO",
        "colab_type": "code",
        "colab": {}
      },
      "source": [
        "x_train[1]"
      ],
      "execution_count": 0,
      "outputs": []
    },
    {
      "cell_type": "markdown",
      "metadata": {
        "id": "J8f5b3f9O13C",
        "colab_type": "text"
      },
      "source": [
        "**Visualise the data**"
      ]
    },
    {
      "cell_type": "code",
      "metadata": {
        "id": "ctnV35rdOx6-",
        "colab_type": "code",
        "colab": {
          "base_uri": "https://localhost:8080/",
          "height": 286
        },
        "outputId": "42e6dc9c-2370-459a-fb96-564da2d88750"
      },
      "source": [
        "plt.imshow(x_train[1])"
      ],
      "execution_count": 43,
      "outputs": [
        {
          "output_type": "execute_result",
          "data": {
            "text/plain": [
              "<matplotlib.image.AxesImage at 0x7f2985a4da90>"
            ]
          },
          "metadata": {
            "tags": []
          },
          "execution_count": 43
        },
        {
          "output_type": "display_data",
          "data": {
            "image/png": "[encoded data removed]",
            "text/plain": [
              "<Figure size 432x288 with 1 Axes>"
            ]
          },
          "metadata": {
            "tags": []
          }
        }
      ]
    },
    {
      "cell_type": "markdown",
      "metadata": {
        "id": "iWkoSuYRO-TA",
        "colab_type": "text"
      },
      "source": [
        "**Normalise the data** </br>\n",
        "By dividing the training and testing data by 255"
      ]
    },
    {
      "cell_type": "code",
      "metadata": {
        "id": "ljSA18WdPI4e",
        "colab_type": "code",
        "colab": {}
      },
      "source": [
        "x_train, x_test = x_train / 255, x_test / 255"
      ],
      "execution_count": 0,
      "outputs": []
    },
    {
      "cell_type": "markdown",
      "metadata": {
        "id": "BBXFnIXsPSWv",
        "colab_type": "text"
      },
      "source": [
        "**Configuring a model**"
      ]
    },
    {
      "cell_type": "code",
      "metadata": {
        "id": "yqfRsARgPXkt",
        "colab_type": "code",
        "colab": {}
      },
      "source": [
        "model = tf.keras.models.Sequential([\n",
        "  tf.keras.layers.Flatten(),\n",
        "  tf.keras.layers.Dense(512, activation=tf.nn.relu),\n",
        "  tf.keras.layers.Dense(10, activation=tf.nn.softmax)\n",
        "])"
      ],
      "execution_count": 0,
      "outputs": []
    },
    {
      "cell_type": "markdown",
      "metadata": {
        "id": "vvpWkmUccPyf",
        "colab_type": "text"
      },
      "source": [
        "**Callback class**"
      ]
    },
    {
      "cell_type": "code",
      "metadata": {
        "id": "GrIHN5mocyAZ",
        "colab_type": "code",
        "colab": {}
      },
      "source": [
        "class myCallback(tf.keras.callbacks.Callback):\n",
        "  def on_epoch_end(self, epoch, logs={}):\n",
        "    if(logs.get('acc')>0.95):\n",
        "      print(\"\\nReached 99% accuracy so cancelling training!\")\n",
        "      self.model.stop_training = True\n",
        "      \n",
        "callbacks = myCallback()"
      ],
      "execution_count": 0,
      "outputs": []
    },
    {
      "cell_type": "markdown",
      "metadata": {
        "id": "yYN1xurUSVNe",
        "colab_type": "text"
      },
      "source": [
        "**Built the model**"
      ]
    },
    {
      "cell_type": "code",
      "metadata": {
        "id": "Edpx7n7kSYoV",
        "colab_type": "code",
        "colab": {
          "base_uri": "https://localhost:8080/",
          "height": 119
        },
        "outputId": "f0503132-3a72-4640-f200-5be7b198ae96"
      },
      "source": [
        "model.compile(optimizer='adam',\n",
        "              loss='sparse_categorical_crossentropy',\n",
        "              metrics=['accuracy'])\n",
        "model.fit(x_train, y_train, epochs=10, callbacks=[callbacks])"
      ],
      "execution_count": 81,
      "outputs": [
        {
          "output_type": "stream",
          "text": [
            "Train on 60000 samples\n",
            "Epoch 1/10\n",
            "59552/60000 [============================>.] - ETA: 0s - loss: 0.0121 - acc: 0.9961\n",
            "Reached 99% accuracy so cancelling training!\n",
            "60000/60000 [==============================] - 6s 107us/sample - loss: 0.0122 - acc: 0.9960\n"
          ],
          "name": "stdout"
        },
        {
          "output_type": "execute_result",
          "data": {
            "text/plain": [
              "<tensorflow.python.keras.callbacks.History at 0x7f2981f8dc88>"
            ]
          },
          "metadata": {
            "tags": []
          },
          "execution_count": 81
        }
      ]
    },
    {
      "cell_type": "markdown",
      "metadata": {
        "id": "yV-vxAUFWB_T",
        "colab_type": "text"
      },
      "source": [
        "**Evaluate**"
      ]
    },
    {
      "cell_type": "code",
      "metadata": {
        "id": "uV3a2A04WE9Q",
        "colab_type": "code",
        "colab": {
          "base_uri": "https://localhost:8080/",
          "height": 51
        },
        "outputId": "ccf76703-a1d7-460f-d50e-2f8ff0ffb0ce"
      },
      "source": [
        "model.evaluate(x_test, y_test)"
      ],
      "execution_count": 82,
      "outputs": [
        {
          "output_type": "stream",
          "text": [
            "10000/10000 [==============================] - 1s 86us/sample - loss: 0.0891 - acc: 0.9809\n"
          ],
          "name": "stdout"
        },
        {
          "output_type": "execute_result",
          "data": {
            "text/plain": [
              "[0.0891323635966467, 0.9809]"
            ]
          },
          "metadata": {
            "tags": []
          },
          "execution_count": 82
        }
      ]
    },
    {
      "cell_type": "markdown",
      "metadata": {
        "id": "WTwFCobkWdfo",
        "colab_type": "text"
      },
      "source": [
        "**Predict**"
      ]
    },
    {
      "cell_type": "code",
      "metadata": {
        "id": "ZiwhU7a2WfkM",
        "colab_type": "code",
        "colab": {}
      },
      "source": [
        "y_pred = model.predict(x_test)"
      ],
      "execution_count": 0,
      "outputs": []
    },
    {
      "cell_type": "code",
      "metadata": {
        "id": "qsFJKW-AWmrl",
        "colab_type": "code",
        "colab": {
          "base_uri": "https://localhost:8080/",
          "height": 51
        },
        "outputId": "9f554d63-ca0c-472e-d21c-fb74f0d79575"
      },
      "source": [
        "print(y_pred[0])"
      ],
      "execution_count": 84,
      "outputs": [
        {
          "output_type": "stream",
          "text": [
            "[6.6661227e-13 9.2187325e-14 1.4852988e-12 1.4815777e-07 9.5159976e-17\n",
            " 3.7508991e-13 1.4208869e-20 9.9999988e-01 1.3829743e-10 4.8771188e-11]\n"
          ],
          "name": "stdout"
        }
      ]
    },
    {
      "cell_type": "code",
      "metadata": {
        "id": "QWnielWbWquq",
        "colab_type": "code",
        "colab": {
          "base_uri": "https://localhost:8080/",
          "height": 286
        },
        "outputId": "ea400721-1477-4c90-cd0a-12ae7eaea0bf"
      },
      "source": [
        "plt.imshow(x_test[0])"
      ],
      "execution_count": 85,
      "outputs": [
        {
          "output_type": "execute_result",
          "data": {
            "text/plain": [
              "<matplotlib.image.AxesImage at 0x7f29810befd0>"
            ]
          },
          "metadata": {
            "tags": []
          },
          "execution_count": 85
        },
        {
          "output_type": "display_data",
          "data": {
            "image/png": "[encoded data removed]",
            "text/plain": [
              "<Figure size 432x288 with 1 Axes>"
            ]
          },
          "metadata": {
            "tags": []
          }
        }
      ]
    }
  ]
}