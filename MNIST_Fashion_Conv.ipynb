{
  "nbformat": 4,
  "nbformat_minor": 0,
  "metadata": {
    "colab": {
      "name": "MNIST Fashion - Conv",
      "provenance": [],
      "collapsed_sections": [],
      "include_colab_link": true
    },
    "kernelspec": {
      "name": "python3",
      "display_name": "Python 3"
    },
    "accelerator": "GPU"
  },
  "cells": [
    {
      "cell_type": "markdown",
      "metadata": {
        "id": "view-in-github",
        "colab_type": "text"
      },
      "source": [
        "<a href=\"https://colab.research.google.com/github/agrawalsourabh/DeepLearning/blob/master/MNIST_Fashion_Conv.ipynb\" target=\"_parent\"><img src=\"https://colab.research.google.com/assets/colab-badge.svg\" alt=\"Open In Colab\"/></a>"
      ]
    },
    {
      "cell_type": "markdown",
      "metadata": {
        "id": "u6ujNe3eAyA_",
        "colab_type": "text"
      },
      "source": [
        "# MNIST Fashion Dataset </br>\n",
        "\n",
        "**Learning Objective**\n",
        "\n",
        "* Load Fashion Dataset\n",
        "* Create a Convolution Layer\n",
        "* Configure Neural Network\n",
        "* Evaluate model"
      ]
    },
    {
      "cell_type": "code",
      "metadata": {
        "id": "gfi0G_tpCG6L",
        "colab_type": "code",
        "colab": {}
      },
      "source": [
        "# importing libraries\n",
        "import numpy as np\n",
        "import pandas as pd\n",
        "import tensorflow as tf\n",
        "import matplotlib.pyplot as plt\n",
        "from keras.datasets import fashion_mnist"
      ],
      "execution_count": 0,
      "outputs": []
    },
    {
      "cell_type": "markdown",
      "metadata": {
        "id": "o6mw9Lg9CwlZ",
        "colab_type": "text"
      },
      "source": [
        "**Load Fashion Data**"
      ]
    },
    {
      "cell_type": "code",
      "metadata": {
        "id": "Ai3mEWHWC1a-",
        "colab_type": "code",
        "colab": {}
      },
      "source": [
        "(x_train, y_train), (x_test, y_test) = fashion_mnist.load_data()"
      ],
      "execution_count": 0,
      "outputs": []
    },
    {
      "cell_type": "markdown",
      "metadata": {
        "id": "Hpufu0PkDBca",
        "colab_type": "text"
      },
      "source": [
        "**Examine the data**\n"
      ]
    },
    {
      "cell_type": "code",
      "metadata": {
        "id": "pv0OPw6SDG1n",
        "colab_type": "code",
        "colab": {
          "base_uri": "https://localhost:8080/",
          "height": 85
        },
        "outputId": "ad295cf5-b13f-4ff0-bd0d-28d7bc683071"
      },
      "source": [
        "print(\"Training data - features\", x_train.shape)\n",
        "print(\"Training data - target\", y_train.shape)\n",
        "\n",
        "print(\"Testing data - features\", x_test.shape)\n",
        "print(\"Testing data - target\", y_test.shape)"
      ],
      "execution_count": 96,
      "outputs": [
        {
          "output_type": "stream",
          "text": [
            "Training data - features (60000, 28, 28)\n",
            "Training data - target (60000,)\n",
            "Testing data - features (10000, 28, 28)\n",
            "Testing data - target (10000,)\n"
          ],
          "name": "stdout"
        }
      ]
    },
    {
      "cell_type": "markdown",
      "metadata": {
        "id": "LgkIawP_Dj0b",
        "colab_type": "text"
      },
      "source": [
        "**Examine the target data**"
      ]
    },
    {
      "cell_type": "code",
      "metadata": {
        "id": "SpFTrlDmDoQK",
        "colab_type": "code",
        "colab": {
          "base_uri": "https://localhost:8080/",
          "height": 34
        },
        "outputId": "da4b77a9-aeb0-4f85-b989-08af86eec91f"
      },
      "source": [
        "print(\"Labels: \", np.unique(y_train))"
      ],
      "execution_count": 97,
      "outputs": [
        {
          "output_type": "stream",
          "text": [
            "Labels:  [0 1 2 3 4 5 6 7 8 9]\n"
          ],
          "name": "stdout"
        }
      ]
    },
    {
      "cell_type": "markdown",
      "metadata": {
        "id": "A5NxMQt2D-H_",
        "colab_type": "text"
      },
      "source": [
        "**Visualise data**"
      ]
    },
    {
      "cell_type": "code",
      "metadata": {
        "id": "PWI8YrUDD9Lc",
        "colab_type": "code",
        "colab": {
          "base_uri": "https://localhost:8080/",
          "height": 286
        },
        "outputId": "31450fb5-da52-4455-9e61-f7c1fea65e2f"
      },
      "source": [
        "plt.imshow(x_train[8])\n",
        "print(y_train[8])"
      ],
      "execution_count": 98,
      "outputs": [
        {
          "output_type": "stream",
          "text": [
            "5\n"
          ],
          "name": "stdout"
        },
        {
          "output_type": "display_data",
          "data": {
            "image/png": "[encoded data removed]",
            "text/plain": [
              "<Figure size 432x288 with 1 Axes>"
            ]
          },
          "metadata": {
            "tags": []
          }
        }
      ]
    },
    {
      "cell_type": "markdown",
      "metadata": {
        "id": "oklI4Gf9Efjk",
        "colab_type": "text"
      },
      "source": [
        "**Normalise the training and testing data**"
      ]
    },
    {
      "cell_type": "code",
      "metadata": {
        "id": "lDWq6t6PEkWe",
        "colab_type": "code",
        "colab": {}
      },
      "source": [
        "x_train_mod = x_train/255\n",
        "x_test_mod = x_test/255\n",
        "\n",
        "x_train_mod = x_train.reshape(60000, 28, 28, 1)\n",
        "x_test_mod = x_test.reshape(10000, 28, 28, 1)\n",
        "\n",
        "y_train_mod = y_train\n",
        "y_test_mod = y_test"
      ],
      "execution_count": 0,
      "outputs": []
    },
    {
      "cell_type": "markdown",
      "metadata": {
        "id": "y9cZUHojMvFQ",
        "colab_type": "text"
      },
      "source": [
        "**Callbacks**"
      ]
    },
    {
      "cell_type": "code",
      "metadata": {
        "id": "MHNneYEBMxNT",
        "colab_type": "code",
        "colab": {}
      },
      "source": [
        "class myCallback(tf.keras.callbacks.Callback):\n",
        "  def on_epoch_end(self, epoch, logs={}):\n",
        "    if(logs.get('loss')<0.1):\n",
        "      print(\"\\nReached 90% accuracy so cancelling training!\")\n",
        "      self.model.stop_training = True\n",
        "\n",
        "callbacks = myCallback()"
      ],
      "execution_count": 0,
      "outputs": []
    },
    {
      "cell_type": "markdown",
      "metadata": {
        "id": "Yn8aIgEaErHP",
        "colab_type": "text"
      },
      "source": [
        "**Built Convolution Layer Network**\n",
        "\n",
        "* Conv Layer 1\n",
        "* Max Pool\n",
        "* Con Layer 2\n",
        "* Max Pool\n",
        "* Flatten\n",
        "* Fully connected layer\n",
        "* Output layer"
      ]
    },
    {
      "cell_type": "code",
      "metadata": {
        "id": "zeduSvBJFMMH",
        "colab_type": "code",
        "colab": {}
      },
      "source": [
        "# Create a Sequential\n",
        "model = tf.keras.models.Sequential()\n",
        "\n",
        "# Create a Conv 1st layer\n",
        "model.add(tf.keras.layers.Conv2D(filters=64, kernel_size=(3,3), activation=tf.nn.relu, input_shape=(28, 28, 1)))\n",
        "\n",
        "# Add pooling layer - MaxPool\n",
        "model.add(tf.keras.layers.MaxPool2D(pool_size=(2, 2)))\n",
        "\n",
        "# Add 2nd Conv Layer\n",
        "model.add(tf.keras.layers.Conv2D(filters=32, kernel_size=(3,3), activation=tf.nn.relu))\n",
        "\n",
        "# Add pooling layer - MaxPool\n",
        "model.add(tf.keras.layers.MaxPooling2D(pool_size=(2, 2)))\n",
        "\n",
        "\n",
        "# Flatten \n",
        "model.add(tf.keras.layers.Flatten())\n",
        "\n",
        "# Add fully connected layer - 1\n",
        "model.add(tf.keras.layers.Dense(128, activation=tf.nn.relu))\n",
        "\n",
        "# Add output layer\n",
        "model.add(tf.keras.layers.Dense(10, activation=tf.nn.softmax))"
      ],
      "execution_count": 0,
      "outputs": []
    },
    {
      "cell_type": "markdown",
      "metadata": {
        "id": "pWQDAgRjImeF",
        "colab_type": "text"
      },
      "source": [
        "**Built the model - Compile and Fit**"
      ]
    },
    {
      "cell_type": "code",
      "metadata": {
        "id": "YuE1sK8ZItHP",
        "colab_type": "code",
        "colab": {
          "base_uri": "https://localhost:8080/",
          "height": 221
        },
        "outputId": "2770adc1-bc76-4a78-fae4-902b03c55a77"
      },
      "source": [
        "model.compile(optimizer='Adam', loss=\"sparse_categorical_crossentropy\")\n",
        "model.fit(x=x_train_mod, y=y_train_mod, epochs=5, callbacks=[callbacks])"
      ],
      "execution_count": 116,
      "outputs": [
        {
          "output_type": "stream",
          "text": [
            "Train on 60000 samples\n",
            "Epoch 1/5\n",
            "60000/60000 [==============================] - 11s 187us/sample - loss: 0.5736\n",
            "Epoch 2/5\n",
            "60000/60000 [==============================] - 11s 184us/sample - loss: 0.3497\n",
            "Epoch 3/5\n",
            "60000/60000 [==============================] - 11s 178us/sample - loss: 0.3016\n",
            "Epoch 4/5\n",
            "60000/60000 [==============================] - 10s 174us/sample - loss: 0.2767\n",
            "Epoch 5/5\n",
            "60000/60000 [==============================] - 10s 174us/sample - loss: 0.2563\n"
          ],
          "name": "stdout"
        },
        {
          "output_type": "execute_result",
          "data": {
            "text/plain": [
              "<tensorflow.python.keras.callbacks.History at 0x7f2a66a846d8>"
            ]
          },
          "metadata": {
            "tags": []
          },
          "execution_count": 116
        }
      ]
    },
    {
      "cell_type": "markdown",
      "metadata": {
        "id": "HdTWst_wLMKo",
        "colab_type": "text"
      },
      "source": [
        "**Evaluate the model**"
      ]
    },
    {
      "cell_type": "code",
      "metadata": {
        "id": "zHZaSC7ELO1X",
        "colab_type": "code",
        "colab": {
          "base_uri": "https://localhost:8080/",
          "height": 51
        },
        "outputId": "dabde1d8-87a7-4dc2-cd8b-fcbd3a0fe13b"
      },
      "source": [
        "model.evaluate(x_test_mod, y_test)"
      ],
      "execution_count": 117,
      "outputs": [
        {
          "output_type": "stream",
          "text": [
            "10000/10000 [==============================] - 1s 107us/sample - loss: 0.3483\n"
          ],
          "name": "stdout"
        },
        {
          "output_type": "execute_result",
          "data": {
            "text/plain": [
              "0.3483122186422348"
            ]
          },
          "metadata": {
            "tags": []
          },
          "execution_count": 117
        }
      ]
    },
    {
      "cell_type": "markdown",
      "metadata": {
        "id": "G2KdDYdHLY79",
        "colab_type": "text"
      },
      "source": [
        "**Predict**"
      ]
    },
    {
      "cell_type": "code",
      "metadata": {
        "id": "HExNXw3bLc06",
        "colab_type": "code",
        "colab": {}
      },
      "source": [
        "y_pred = model.predict(x_test_mod)"
      ],
      "execution_count": 0,
      "outputs": []
    },
    {
      "cell_type": "code",
      "metadata": {
        "id": "uHljv5PsLspU",
        "colab_type": "code",
        "colab": {
          "base_uri": "https://localhost:8080/",
          "height": 51
        },
        "outputId": "e40ae759-fb97-4478-d47f-532a4b226fa6"
      },
      "source": [
        "print(y_pred[22])"
      ],
      "execution_count": 108,
      "outputs": [
        {
          "output_type": "stream",
          "text": [
            "[4.0250904e-07 8.1238301e-07 8.3201734e-08 2.1982495e-07 1.1268769e-06\n",
            " 1.8998176e-03 3.6855764e-07 9.9795604e-01 3.6002006e-05 1.0514231e-04]\n"
          ],
          "name": "stdout"
        }
      ]
    },
    {
      "cell_type": "code",
      "metadata": {
        "id": "rrrkcMRBLylo",
        "colab_type": "code",
        "colab": {
          "base_uri": "https://localhost:8080/",
          "height": 286
        },
        "outputId": "d3b46cfa-8bad-4364-b458-e2132d430e82"
      },
      "source": [
        "plt.imshow(x_test[22])"
      ],
      "execution_count": 109,
      "outputs": [
        {
          "output_type": "execute_result",
          "data": {
            "text/plain": [
              "<matplotlib.image.AxesImage at 0x7f2a66d55438>"
            ]
          },
          "metadata": {
            "tags": []
          },
          "execution_count": 109
        },
        {
          "output_type": "display_data",
          "data": {
            "image/png": "[encoded data removed]",
            "text/plain": [
              "<Figure size 432x288 with 1 Axes>"
            ]
          },
          "metadata": {
            "tags": []
          }
        }
      ]
    },
    {
      "cell_type": "code",
      "metadata": {
        "id": "une716-OUFnV",
        "colab_type": "code",
        "colab": {
          "base_uri": "https://localhost:8080/",
          "height": 68
        },
        "outputId": "790af5a2-396f-41a6-a0bf-be3864c07d18"
      },
      "source": [
        "print(y_test[:100])"
      ],
      "execution_count": 113,
      "outputs": [
        {
          "output_type": "stream",
          "text": [
            "[9 2 1 1 6 1 4 6 5 7 4 5 7 3 4 1 2 4 8 0 2 5 7 9 1 4 6 0 9 3 8 8 3 3 8 0 7\n",
            " 5 7 9 6 1 3 7 6 7 2 1 2 2 4 4 5 8 2 2 8 4 8 0 7 7 8 5 1 1 2 3 9 8 7 0 2 6\n",
            " 2 3 1 2 8 4 1 8 5 9 5 0 3 2 0 6 5 3 6 7 1 8 0 1 4 2]\n"
          ],
          "name": "stdout"
        }
      ]
    },
    {
      "cell_type": "markdown",
      "metadata": {
        "id": "qsUQjQG8Ts9B",
        "colab_type": "text"
      },
      "source": [
        "**Visualising the results**"
      ]
    },
    {
      "cell_type": "code",
      "metadata": {
        "id": "-jlLL7ZiTvg9",
        "colab_type": "code",
        "colab": {
          "base_uri": "https://localhost:8080/",
          "height": 269
        },
        "outputId": "855913aa-2cc2-43ab-e3db-cd4b89ab0a29"
      },
      "source": [
        "f, axarr = plt.subplots(3,4)\n",
        "FIRST_IMAGE=2\n",
        "SECOND_IMAGE=3\n",
        "THIRD_IMAGE=5\n",
        "CONVOLUTION_NUMBER = 1\n",
        "from tensorflow.keras import models\n",
        "layer_outputs = [layer.output for layer in model.layers]\n",
        "activation_model = tf.keras.models.Model(inputs = model.input, outputs = layer_outputs)\n",
        "for x in range(0,4):\n",
        "  f1 = activation_model.predict(x_test_mod[FIRST_IMAGE].reshape(1, 28, 28, 1))[x]\n",
        "  axarr[0,x].imshow(f1[0, : , :, CONVOLUTION_NUMBER], cmap='inferno')\n",
        "  axarr[0,x].grid(False)\n",
        "  f2 = activation_model.predict(x_test_mod[SECOND_IMAGE].reshape(1, 28, 28, 1))[x]\n",
        "  axarr[1,x].imshow(f2[0, : , :, CONVOLUTION_NUMBER], cmap='inferno')\n",
        "  axarr[1,x].grid(False)\n",
        "  f3 = activation_model.predict(x_test_mod[THIRD_IMAGE].reshape(1, 28, 28, 1))[x]\n",
        "  axarr[2,x].imshow(f3[0, : , :, CONVOLUTION_NUMBER], cmap='inferno')\n",
        "  axarr[2,x].grid(False)"
      ],
      "execution_count": 114,
      "outputs": [
        {
          "output_type": "display_data",
          "data": {
            "image/png": "[encoded data removed]",
            "text/plain": [
              "<Figure size 432x288 with 12 Axes>"
            ]
          },
          "metadata": {
            "tags": []
          }
        }
      ]
    }
  ]
}