{
  "nbformat": 4,
  "nbformat_minor": 0,
  "metadata": {
    "colab": {
      "name": "VGG16",
      "provenance": [],
      "private_outputs": true,
      "toc_visible": true,
      "include_colab_link": true
    },
    "kernelspec": {
      "name": "python3",
      "display_name": "Python 3"
    },
    "accelerator": "GPU"
  },
  "cells": [
    {
      "cell_type": "markdown",
      "metadata": {
        "id": "view-in-github",
        "colab_type": "text"
      },
      "source": [
        "<a href=\"https://colab.research.google.com/github/agrawalsourabh/DeepLearning/blob/master/VGG16.ipynb\" target=\"_parent\"><img src=\"https://colab.research.google.com/assets/colab-badge.svg\" alt=\"Open In Colab\"/></a>"
      ]
    },
    {
      "cell_type": "markdown",
      "metadata": {
        "id": "HeCe0NtQEzL8",
        "colab_type": "text"
      },
      "source": [
        "# VGG 16\n",
        "\n",
        "**Learning Objective**\n",
        "\n",
        "* How VGG16 works?\n",
        "* Display image in each layer."
      ]
    },
    {
      "cell_type": "code",
      "metadata": {
        "id": "R3pDRZPgEE4C",
        "colab_type": "code",
        "colab": {}
      },
      "source": [
        "# Imports all fucking libraries\n",
        "import numpy as np\n",
        "import pandas as pd\n",
        "import matplotlib.pyplot as plt\n",
        "from PIL import Image\n",
        "from io import BytesIO\n",
        "import requests\n",
        "\n",
        "import tensorflow as tf"
      ],
      "execution_count": 0,
      "outputs": []
    },
    {
      "cell_type": "markdown",
      "metadata": {
        "id": "6KcoV4YUKNoG",
        "colab_type": "text"
      },
      "source": [
        "**Set Hyperparameters**"
      ]
    },
    {
      "cell_type": "code",
      "metadata": {
        "id": "FRNIpIRyKLe4",
        "colab_type": "code",
        "colab": {}
      },
      "source": [
        "IMAGE_WIDTH = 500\n",
        "IMAGE_HEIGHT = 500\n",
        "IMAGENET_MEAN_RGB_VALUES = [123.68, 116.779, 103.939]"
      ],
      "execution_count": 0,
      "outputs": []
    },
    {
      "cell_type": "markdown",
      "metadata": {
        "id": "ITRPRk03H7PZ",
        "colab_type": "text"
      },
      "source": [
        "**Download image**"
      ]
    },
    {
      "cell_type": "code",
      "metadata": {
        "id": "IHRIsLKjH9-p",
        "colab_type": "code",
        "colab": {}
      },
      "source": [
        "input_image_path = \"https://parentingteensandtweens.com/wp-content/uploads/2019/08/To-My-boy-Before-Eighth-Grade-FB1-1024x535.jpg\"\n",
        "\n",
        "input_image = Image.open(BytesIO(requests.get(input_image_path).content))\n",
        "print(\"Input image size: \", input_image.size)\n",
        "\n",
        "input_image"
      ],
      "execution_count": 0,
      "outputs": []
    },
    {
      "cell_type": "markdown",
      "metadata": {
        "id": "jAys8b8IJZtF",
        "colab_type": "text"
      },
      "source": [
        "**Resize the image to 500 by 500**"
      ]
    },
    {
      "cell_type": "code",
      "metadata": {
        "id": "pQ7FZjpRJeEZ",
        "colab_type": "code",
        "colab": {}
      },
      "source": [
        "input_image = input_image.resize((IMAGE_WIDTH, IMAGE_HEIGHT))\n",
        "print(\"Input size: \", input_image.size)\n",
        "input_image"
      ],
      "execution_count": 0,
      "outputs": []
    },
    {
      "cell_type": "markdown",
      "metadata": {
        "id": "E_xRKd-NKpVA",
        "colab_type": "text"
      },
      "source": [
        "**Image Reshaping and Normalisation**"
      ]
    },
    {
      "cell_type": "code",
      "metadata": {
        "id": "gZVFP4VbKokA",
        "colab_type": "code",
        "colab": {}
      },
      "source": [
        "input_image_array = np.asarray(input_image, dtype = \"float32\")\n",
        "\n",
        "\n",
        "input_image_array = np.expand_dims(input_image_array, axis=0)\n",
        "\n",
        "\n",
        "input_image_array[:, :, :, 0] -= IMAGENET_MEAN_RGB_VALUES[2]\n",
        "input_image_array[:, :, :, 1] -= IMAGENET_MEAN_RGB_VALUES[1]\n",
        "input_image_array[:, :, :, 2] -= IMAGENET_MEAN_RGB_VALUES[0]\n",
        "input_image_array = input_image_array[:, :, :, ::-1]"
      ],
      "execution_count": 0,
      "outputs": []
    },
    {
      "cell_type": "markdown",
      "metadata": {
        "id": "xvg2P0BTK1Tb",
        "colab_type": "text"
      },
      "source": [
        "**Load the VGG16 model**"
      ]
    },
    {
      "cell_type": "code",
      "metadata": {
        "id": "Cr-1xH5lK5VP",
        "colab_type": "code",
        "colab": {}
      },
      "source": [
        "input_tensor = tf.keras.backend.variable(input_image_array)\n",
        "model = tf.keras.applications.vgg16.VGG16(include_top=False, input_tensor=input_tensor)"
      ],
      "execution_count": 0,
      "outputs": []
    },
    {
      "cell_type": "code",
      "metadata": {
        "id": "i4wn29bOMkgR",
        "colab_type": "code",
        "colab": {}
      },
      "source": [
        "print(input_tensor)"
      ],
      "execution_count": 0,
      "outputs": []
    },
    {
      "cell_type": "markdown",
      "metadata": {
        "id": "l8k4nKEhM3CN",
        "colab_type": "text"
      },
      "source": [
        "**Visualise model**"
      ]
    },
    {
      "cell_type": "code",
      "metadata": {
        "id": "aE0O_hXsM5Cl",
        "colab_type": "code",
        "colab": {}
      },
      "source": [
        "model.summary()"
      ],
      "execution_count": 0,
      "outputs": []
    },
    {
      "cell_type": "markdown",
      "metadata": {
        "id": "pX1uaufSO0Mr",
        "colab_type": "text"
      },
      "source": [
        "**Lets check the output of each layer**"
      ]
    },
    {
      "cell_type": "code",
      "metadata": {
        "id": "iDUhsjNhO5ju",
        "colab_type": "code",
        "colab": {}
      },
      "source": [
        "layer_outputs = [layer.output for layer in model.layers] \n",
        "# Extracts the outputs of the top 12 layers\n",
        "activation_model = tf.keras.models.Model(inputs=model.input, outputs=layer_outputs) # Creates a model that will return these outputs, given the model input"
      ],
      "execution_count": 0,
      "outputs": []
    },
    {
      "cell_type": "code",
      "metadata": {
        "id": "76rhs4E3RLXA",
        "colab_type": "code",
        "colab": {}
      },
      "source": [
        "activations = activation_model.predict(input_tensor, steps=1) "
      ],
      "execution_count": 0,
      "outputs": []
    },
    {
      "cell_type": "code",
      "metadata": {
        "id": "tcIsZyOBTQW5",
        "colab_type": "code",
        "colab": {}
      },
      "source": [
        "l = 1\n",
        "fig = plt.figure(figsize = (16,16))\n",
        "cols = 4\n",
        "rows = 5\n",
        "for layer_output in activations:\n",
        "  fig.add_subplot(rows, cols, l)\n",
        "  plt.imshow(layer_output[0,:,:,1])\n",
        "  l = l+1\n",
        "  \n",
        "plt.savefig(\"layer_output.png\")\n",
        "plt.show()\n"
      ],
      "execution_count": 0,
      "outputs": []
    },
    {
      "cell_type": "markdown",
      "metadata": {
        "id": "WWGHAem4maNo",
        "colab_type": "text"
      },
      "source": [
        "**Let's create a new model for style image**"
      ]
    },
    {
      "cell_type": "code",
      "metadata": {
        "id": "4fzRQ_4HmgHm",
        "colab_type": "code",
        "colab": {}
      },
      "source": [
        "style_image_url = \"http://meetingbenches.com/wp-content/flagallery/tytus-brzozowski-polish-architect-and-watercolorist-a-fairy-tale-in-warsaw/tytus_brzozowski_13.jpg\"\n",
        "\n",
        "style_image = Image.open(BytesIO(requests.get(style_image_url).content))\n",
        "\n",
        "\n",
        "\n",
        "style_image"
      ],
      "execution_count": 0,
      "outputs": []
    },
    {
      "cell_type": "code",
      "metadata": {
        "id": "HCHHHJ9dnGlZ",
        "colab_type": "code",
        "colab": {}
      },
      "source": [
        "print(style_image.size)"
      ],
      "execution_count": 0,
      "outputs": []
    },
    {
      "cell_type": "code",
      "metadata": {
        "id": "3172IpvMnUTO",
        "colab_type": "code",
        "colab": {}
      },
      "source": [
        "style_image = style_image.resize((IMAGE_WIDTH, IMAGE_HEIGHT))\n",
        "style_image"
      ],
      "execution_count": 0,
      "outputs": []
    },
    {
      "cell_type": "markdown",
      "metadata": {
        "id": "E8O31wAOnxCw",
        "colab_type": "text"
      },
      "source": [
        "**Style Image normalise**"
      ]
    },
    {
      "cell_type": "code",
      "metadata": {
        "id": "kR8ccZWen2nO",
        "colab_type": "code",
        "colab": {}
      },
      "source": [
        "style_image_array = np.asarray(style_image, dtype = \"float32\")\n",
        "\n",
        "\n",
        "style_image_array = np.expand_dims(style_image_array, axis=0)"
      ],
      "execution_count": 0,
      "outputs": []
    },
    {
      "cell_type": "code",
      "metadata": {
        "id": "GexZFRwjoDF9",
        "colab_type": "code",
        "colab": {}
      },
      "source": [
        "style_tensor = tf.keras.backend.variable(style_image_array)\n",
        "style_model = tf.keras.applications.vgg16.VGG16(input_tensor=style_tensor, include_top=False)\n",
        "style_model.summary()"
      ],
      "execution_count": 0,
      "outputs": []
    },
    {
      "cell_type": "markdown",
      "metadata": {
        "id": "Z5zLmwZBozc2",
        "colab_type": "text"
      },
      "source": [
        "**Let's check the output of each layer**"
      ]
    },
    {
      "cell_type": "code",
      "metadata": {
        "id": "1iIXzSZfo3sR",
        "colab_type": "code",
        "colab": {}
      },
      "source": [
        "style_output_layers = [layer.output for layer in style_model.layers]\n",
        "style_activation_model = tf.keras.models.Model(inputs=style_model.input, outputs=style_output_layers)\n",
        "\n",
        "style_activations = style_activation_model.predict(style_tensor, steps=1)\n",
        "\n",
        "# Visualise\n",
        "\n",
        "l = 1\n",
        "fig = plt.figure(figsize = (16,16))\n",
        "cols = 4\n",
        "rows = 5\n",
        "for layer_output in style_activations:\n",
        "  fig.add_subplot(rows, cols, l)\n",
        "  plt.imshow(layer_output[0,:,:,1])\n",
        "  l = l+1\n",
        "  \n",
        "plt.savefig(\"style_layer_output.png\")\n",
        "plt.show()\n"
      ],
      "execution_count": 0,
      "outputs": []
    },
    {
      "cell_type": "code",
      "metadata": {
        "id": "uVaW7-swEuCC",
        "colab_type": "code",
        "colab": {}
      },
      "source": [
        "plt.imshow(style_)"
      ],
      "execution_count": 0,
      "outputs": []
    }
  ]
}